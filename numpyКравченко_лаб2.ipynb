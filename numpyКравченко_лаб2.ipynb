{
  "cells": [
    {
      "cell_type": "markdown",
      "metadata": {
        "id": "view-in-github",
        "colab_type": "text"
      },
      "source": [
        "<a href=\"https://colab.research.google.com/github/ValentinKraravchenko/-Data-science-/blob/main/numpy%D0%9A%D1%80%D0%B0%D0%B2%D1%87%D0%B5%D0%BD%D0%BA%D0%BE_%D0%BB%D0%B0%D0%B12.ipynb\" target=\"_parent\"><img src=\"https://colab.research.google.com/assets/colab-badge.svg\" alt=\"Open In Colab\"/></a>"
      ]
    },
    {
      "cell_type": "markdown",
      "id": "96443564",
      "metadata": {
        "id": "96443564"
      },
      "source": [
        "#### 1. Импортируйте пакет numpy под именем `np` (★☆☆)"
      ]
    },
    {
      "cell_type": "code",
      "execution_count": null,
      "id": "ffe1047e",
      "metadata": {
        "id": "ffe1047e"
      },
      "outputs": [],
      "source": [
        "import numpy as np"
      ]
    },
    {
      "cell_type": "markdown",
      "id": "572c1bdb",
      "metadata": {
        "id": "572c1bdb"
      },
      "source": [
        "#### 2. Создайте нулевой вектор размера 10 (★☆☆)"
      ]
    },
    {
      "cell_type": "code",
      "execution_count": null,
      "id": "31c9f6a5",
      "metadata": {
        "id": "31c9f6a5",
        "colab": {
          "base_uri": "https://localhost:8080/"
        },
        "outputId": "912f91d5-40bc-4d99-9d0d-96af0d7a46ec"
      },
      "outputs": [
        {
          "output_type": "stream",
          "name": "stdout",
          "text": [
            "[0. 0. 0. 0. 0. 0. 0. 0. 0. 0.]\n"
          ]
        }
      ],
      "source": [
        "some_list = np.zeros(10)\n",
        "print(some_list)"
      ]
    },
    {
      "cell_type": "markdown",
      "id": "337e6e36",
      "metadata": {
        "id": "337e6e36"
      },
      "source": [
        "#### 3. Как узнать объем памяти любого массива (★☆☆)"
      ]
    },
    {
      "cell_type": "code",
      "execution_count": null,
      "id": "31e8ec2e",
      "metadata": {
        "id": "31e8ec2e",
        "colab": {
          "base_uri": "https://localhost:8080/"
        },
        "outputId": "63892a6f-8423-4ca2-eba4-87a551401a75"
      },
      "outputs": [
        {
          "output_type": "stream",
          "name": "stdout",
          "text": [
            "320 Байт(а)\n"
          ]
        }
      ],
      "source": [
        "\n",
        "data = some_list.size * some_list.itemsize\n",
        "print(data,\"Байт(а)\")\n"
      ]
    },
    {
      "cell_type": "markdown",
      "id": "cfc46304",
      "metadata": {
        "id": "cfc46304"
      },
      "source": [
        "#### 4. Создайте вектор со значениями от 10 до 49. (★☆☆)"
      ]
    },
    {
      "cell_type": "code",
      "execution_count": null,
      "id": "d8b86640",
      "metadata": {
        "id": "d8b86640",
        "colab": {
          "base_uri": "https://localhost:8080/"
        },
        "outputId": "61641741-34f8-4339-a1b5-df81e24bf77f"
      },
      "outputs": [
        {
          "output_type": "stream",
          "name": "stdout",
          "text": [
            "[10 11 12 13 14 15 16 17 18 19 20 21 22 23 24 25 26 27 28 29 30 31 32 33\n",
            " 34 35 36 37 38 39 40 41 42 43 44 45 46 47 48 49]\n"
          ]
        }
      ],
      "source": [
        "some_list=np.arange(10,50)\n",
        "print(some_list)"
      ]
    },
    {
      "cell_type": "markdown",
      "id": "0cc200be",
      "metadata": {
        "id": "0cc200be"
      },
      "source": [
        "#### 5. Создайте обратный вектор из вектора в задании 4 (первый элемент становится последним) (★☆☆)"
      ]
    },
    {
      "cell_type": "code",
      "execution_count": null,
      "id": "ec044bb5",
      "metadata": {
        "id": "ec044bb5",
        "colab": {
          "base_uri": "https://localhost:8080/"
        },
        "outputId": "188f7a34-a68d-41f8-9c93-2fdd0c2a6800"
      },
      "outputs": [
        {
          "output_type": "stream",
          "name": "stdout",
          "text": [
            "[49 48 47 46 45 44 43 42 41 40 39 38 37 36 35 34 33 32 31 30 29 28 27 26\n",
            " 25 24 23 22 21 20 19 18 17 16 15 14 13 12 11 10]\n"
          ]
        }
      ],
      "source": [
        "x=np.flipud(some_list)\n",
        "print(x)"
      ]
    },
    {
      "cell_type": "markdown",
      "id": "29d9ede4",
      "metadata": {
        "id": "29d9ede4"
      },
      "source": [
        "#### 6. Создайте матрицу 3x3 со значениями от 0 до 8. (★☆☆)"
      ]
    },
    {
      "cell_type": "code",
      "execution_count": null,
      "id": "d9e39043",
      "metadata": {
        "id": "d9e39043",
        "colab": {
          "base_uri": "https://localhost:8080/"
        },
        "outputId": "1dc7430f-74b6-42ab-bf04-d17e1f7e34e8"
      },
      "outputs": [
        {
          "output_type": "stream",
          "name": "stdout",
          "text": [
            "[[0 1 2]\n",
            " [3 4 5]\n",
            " [6 7 8]]\n"
          ]
        }
      ],
      "source": [
        "mass=np.arange(9).reshape(3,3)\n",
        "print(mass)"
      ]
    },
    {
      "cell_type": "markdown",
      "id": "88905ceb",
      "metadata": {
        "id": "88905ceb"
      },
      "source": [
        "#### 7. Найти индексы ненулевых элементов из [1,2,0,0,4,0 (★☆☆)"
      ]
    },
    {
      "cell_type": "code",
      "execution_count": null,
      "id": "b2f3c90a",
      "metadata": {
        "id": "b2f3c90a",
        "colab": {
          "base_uri": "https://localhost:8080/"
        },
        "outputId": "4c497d87-da01-4373-b21e-7cffa590091d"
      },
      "outputs": [
        {
          "output_type": "stream",
          "name": "stdout",
          "text": [
            "(array([0, 1, 4]),)\n"
          ]
        }
      ],
      "source": [
        "mass= np.nonzero([1,2,0,0,4,0])\n",
        "print(mass)"
      ]
    },
    {
      "cell_type": "markdown",
      "id": "e15c249a",
      "metadata": {
        "id": "e15c249a"
      },
      "source": [
        "#### 8. Создайте массив 3x3x3 со случайными значениями (★☆☆)"
      ]
    },
    {
      "cell_type": "code",
      "execution_count": null,
      "id": "ab21ed50",
      "metadata": {
        "id": "ab21ed50",
        "colab": {
          "base_uri": "https://localhost:8080/"
        },
        "outputId": "139613a4-3e2b-4191-a1b3-e1b4e6e9a8b9"
      },
      "outputs": [
        {
          "output_type": "stream",
          "name": "stdout",
          "text": [
            "[[[0.18898025 0.88535402 0.34320942]\n",
            "  [0.04254042 0.4511655  0.17973778]\n",
            "  [0.98152959 0.07383157 0.38146709]]\n",
            "\n",
            " [[0.10499091 0.85635015 0.55522607]\n",
            "  [0.05780791 0.06767045 0.22586713]\n",
            "  [0.36494128 0.24188849 0.15444533]]\n",
            "\n",
            " [[0.82962427 0.56398388 0.96590181]\n",
            "  [0.49317207 0.83771184 0.04003303]\n",
            "  [0.09291608 0.72902913 0.91243619]]]\n"
          ]
        }
      ],
      "source": [
        "mass=np.random.random((3,3,3))\n",
        "print(mass)"
      ]
    },
    {
      "cell_type": "markdown",
      "id": "157a129c",
      "metadata": {
        "id": "157a129c"
      },
      "source": [
        "#### 9. Создайте массив 10x10 со случайными значениями и найдите минимальное и максимальное значения. (★☆☆)"
      ]
    },
    {
      "cell_type": "code",
      "execution_count": null,
      "id": "c0066de5",
      "metadata": {
        "id": "c0066de5",
        "colab": {
          "base_uri": "https://localhost:8080/"
        },
        "outputId": "2febb2ae-34b4-401a-98d6-0bbdafd056e7"
      },
      "outputs": [
        {
          "output_type": "stream",
          "name": "stdout",
          "text": [
            "[[0.62767155 0.3599265  0.58471052 0.85941018 0.57416582 0.6286266\n",
            "  0.82210509 0.40212109 0.56951949 0.45140928]\n",
            " [0.14949643 0.57235831 0.18893119 0.44214692 0.70637272 0.07526753\n",
            "  0.15571825 0.05710354 0.38500847 0.24178374]\n",
            " [0.4557734  0.87495289 0.88252842 0.14571904 0.15153722 0.65189653\n",
            "  0.2039432  0.86351828 0.28640375 0.76390136]\n",
            " [0.04557753 0.53956616 0.1359026  0.1001087  0.89691878 0.40773598\n",
            "  0.68238025 0.61053077 0.02119116 0.37729945]\n",
            " [0.95685852 0.54288968 0.89018301 0.28183112 0.30057943 0.26919193\n",
            "  0.8061447  0.18247694 0.12828674 0.58603603]\n",
            " [0.87738152 0.36033112 0.35837531 0.45760278 0.55883605 0.47600938\n",
            "  0.75181012 0.96902668 0.74413175 0.40730576]\n",
            " [0.53809665 0.14687452 0.69164477 0.11671817 0.21475071 0.99880571\n",
            "  0.84016041 0.10810876 0.0634406  0.60142528]\n",
            " [0.38328511 0.81120322 0.33815529 0.5617372  0.78620916 0.51108097\n",
            "  0.92460263 0.96721218 0.01134382 0.54112659]\n",
            " [0.22009425 0.73777015 0.52872559 0.27078602 0.7613553  0.40823316\n",
            "  0.15678039 0.37953399 0.7576936  0.72131731]\n",
            " [0.7692161  0.15615595 0.13239009 0.97995171 0.54936628 0.57932718\n",
            "  0.14619265 0.11053398 0.37809042 0.98860008]] \n",
            " 0.011343819918525733 0.9988057093676682\n"
          ]
        }
      ],
      "source": [
        "a=np.random.random((10,10))\n",
        "Amin=a.min()\n",
        "Amax=a.max()\n",
        "print(a,\"\\n\",Amin,Amax)"
      ]
    },
    {
      "cell_type": "markdown",
      "id": "d92d7b32",
      "metadata": {
        "id": "d92d7b32"
      },
      "source": [
        "#### 10. Создайте случайный вектор размера 30 и найдите среднее значение(★☆☆)"
      ]
    },
    {
      "cell_type": "code",
      "execution_count": null,
      "id": "9672d023",
      "metadata": {
        "id": "9672d023",
        "colab": {
          "base_uri": "https://localhost:8080/"
        },
        "outputId": "baf5d127-1186-4139-91c4-5e8089d1dabf"
      },
      "outputs": [
        {
          "output_type": "stream",
          "name": "stdout",
          "text": [
            "0.44949098050444614\n"
          ]
        }
      ],
      "source": [
        "a = np.random.random(30)\n",
        "x = a.mean()\n",
        "print(x)"
      ]
    },
    {
      "cell_type": "markdown",
      "id": "f361efc0",
      "metadata": {
        "id": "f361efc0"
      },
      "source": [
        "#### 11. Создайте массив 2d 2x3 c 1 на границе и 0 внутри (★☆☆)"
      ]
    },
    {
      "cell_type": "code",
      "execution_count": null,
      "id": "a55b6666",
      "metadata": {
        "id": "a55b6666",
        "colab": {
          "base_uri": "https://localhost:8080/"
        },
        "outputId": "9809675d-d249-48ed-c9f2-3712ba3ae32e"
      },
      "outputs": [
        {
          "output_type": "stream",
          "name": "stdout",
          "text": [
            "[[1. 1. 1.]\n",
            " [1. 0. 1.]\n",
            " [1. 1. 1.]]\n"
          ]
        }
      ],
      "source": [
        "###Думаю опечатка и надо 3х3\n",
        "a = np.ones((3,3))\n",
        "a[1:-1,1:-1] = 0\n",
        "print(a)"
      ]
    },
    {
      "cell_type": "markdown",
      "id": "1af07d85",
      "metadata": {
        "id": "1af07d85"
      },
      "source": [
        "#### 12. Каков результат следующего выражения? (★☆☆)\n",
        "```python\n",
        "0 * np.nan\n",
        "np.nan == np.nan\n",
        "np.inf > np.nan\n",
        "np.nan - np.nan\n",
        "np.nan in set([np.nan])\n",
        "0.3 == 3 * 0.1\n",
        "```"
      ]
    },
    {
      "cell_type": "code",
      "execution_count": null,
      "id": "109cf327",
      "metadata": {
        "id": "109cf327",
        "colab": {
          "base_uri": "https://localhost:8080/"
        },
        "outputId": "581251da-0eb4-4be5-cf99-3e2f01693c65"
      },
      "outputs": [
        {
          "output_type": "stream",
          "name": "stdout",
          "text": [
            "nan\n",
            "False\n",
            "False\n",
            "nan\n",
            "True\n",
            "False\n"
          ]
        }
      ],
      "source": [
        "print(0 * np.nan)\n",
        "print(np.nan == np.nan)\n",
        "print(np.inf > np.nan)\n",
        "print(np.nan - np.nan)\n",
        "print(np.nan in set([np.nan]))\n",
        "print(0.3 == 3 * 0.1)"
      ]
    },
    {
      "cell_type": "markdown",
      "id": "6431e977",
      "metadata": {
        "id": "6431e977"
      },
      "source": [
        "#### 13. Рассмотрим массив размера (6,7,8). Каков индекс (x,y,z) 100-го элемента? (★☆☆)"
      ]
    },
    {
      "cell_type": "code",
      "execution_count": null,
      "id": "de8b0245",
      "metadata": {
        "id": "de8b0245",
        "colab": {
          "base_uri": "https://localhost:8080/"
        },
        "outputId": "170f5310-57db-41e5-d930-8a37550b5577"
      },
      "outputs": [
        {
          "output_type": "stream",
          "name": "stdout",
          "text": [
            "(1, 5, 4)\n"
          ]
        }
      ],
      "source": [
        "print(np.unravel_index(100, (6,7,8)))"
      ]
    },
    {
      "cell_type": "markdown",
      "id": "06c63bb3",
      "metadata": {
        "id": "06c63bb3"
      },
      "source": [
        "#### 14. Умножить матрицу 5x3 на матрицу 3x2(★☆☆)"
      ]
    },
    {
      "cell_type": "code",
      "execution_count": null,
      "id": "9fc0d553",
      "metadata": {
        "id": "9fc0d553",
        "colab": {
          "base_uri": "https://localhost:8080/"
        },
        "outputId": "9d7da927-d6cb-4e96-aa8d-d8e9828d0990"
      },
      "outputs": [
        {
          "output_type": "stream",
          "name": "stdout",
          "text": [
            "[[3. 3.]\n",
            " [3. 3.]\n",
            " [3. 3.]\n",
            " [3. 3.]\n",
            " [3. 3.]]\n"
          ]
        }
      ],
      "source": [
        "a= np.dot(np.ones((5,3)), np.ones((3,2)))\n",
        "print(a)"
      ]
    },
    {
      "cell_type": "markdown",
      "id": "76fa6285",
      "metadata": {
        "id": "76fa6285"
      },
      "source": [
        "#### 15. Создайте одномерный массив со случайными значениями от 1 до 10, инвертируйте (поменяйте местами) все элементы, со значениями 3 и 8. (★☆☆)"
      ]
    },
    {
      "cell_type": "code",
      "execution_count": null,
      "id": "0e25eca7",
      "metadata": {
        "id": "0e25eca7",
        "colab": {
          "base_uri": "https://localhost:8080/"
        },
        "outputId": "7c0848a4-514b-427f-e291-0c418aacd400"
      },
      "outputs": [
        {
          "output_type": "stream",
          "name": "stdout",
          "text": [
            "[ 0  1  2  8  7  6  5  4  3  9 10]\n"
          ]
        }
      ],
      "source": [
        "a = np.arange(11)\n",
        "a[(3 <= a) & (a <= 8)] = np.flipud(a[(3 <= a) & (a <= 8)])\n",
        "print(a)"
      ]
    },
    {
      "cell_type": "markdown",
      "id": "a6eaf0e8",
      "metadata": {
        "id": "a6eaf0e8"
      },
      "source": [
        "#### 16. Каков результат следующих выражений? (★☆☆)\n",
        "```python\n",
        "np.array(0) / np.array(0)\n",
        "np.array(0) // np.array(0)\n",
        "np.array([np.nan]).astype(int).astype(float)\n",
        "```"
      ]
    },
    {
      "cell_type": "code",
      "execution_count": null,
      "id": "93684068",
      "metadata": {
        "id": "93684068",
        "colab": {
          "base_uri": "https://localhost:8080/"
        },
        "outputId": "e84c0d0c-8b7d-4c25-8eaf-c074a1da99a2"
      },
      "outputs": [
        {
          "output_type": "stream",
          "name": "stdout",
          "text": [
            "nan\n",
            "0\n",
            "[-9.22337204e+18]\n"
          ]
        },
        {
          "output_type": "stream",
          "name": "stderr",
          "text": [
            "<ipython-input-57-2a10de0ee61b>:1: RuntimeWarning: invalid value encountered in true_divide\n",
            "  print(np.array(0) / np.array(0))\n",
            "<ipython-input-57-2a10de0ee61b>:2: RuntimeWarning: divide by zero encountered in floor_divide\n",
            "  print(np.array(0) // np.array(0))\n"
          ]
        }
      ],
      "source": [
        "print(np.array(0) / np.array(0))\n",
        "print(np.array(0) // np.array(0))\n",
        "print(np.array([np.nan]).astype(int).astype(float))"
      ]
    },
    {
      "cell_type": "markdown",
      "id": "8dc40752",
      "metadata": {
        "id": "8dc40752"
      },
      "source": [
        "#### 17. Как найти общие значения между двумя массивами? (★☆☆)"
      ]
    },
    {
      "cell_type": "code",
      "execution_count": null,
      "id": "54399cbe",
      "metadata": {
        "id": "54399cbe",
        "colab": {
          "base_uri": "https://localhost:8080/"
        },
        "outputId": "21055aef-8ecc-4812-bfd0-a53197b0e33b"
      },
      "outputs": [
        {
          "output_type": "stream",
          "name": "stdout",
          "text": [
            "[5 2 1 6 0 5 3 0 3 4]\n",
            "[6 5 8 4 0 6 6 4 7 5]\n",
            "[0 4 5 6]\n"
          ]
        }
      ],
      "source": [
        "A = np.random.randint(0,7,10)\n",
        "print(A)\n",
        "B = np.random.randint(0,10,10)\n",
        "print(B)\n",
        "x=np.intersect1d(A,B)\n",
        "print(x)"
      ]
    },
    {
      "cell_type": "markdown",
      "id": "52667b6e",
      "metadata": {
        "id": "52667b6e"
      },
      "source": [
        "#### 18. Как вычислить ((A+B)*(-A/2)) с заменой массива А (без копирования)? (★★☆)"
      ]
    },
    {
      "cell_type": "code",
      "execution_count": null,
      "id": "e6e7c030",
      "metadata": {
        "id": "e6e7c030",
        "colab": {
          "base_uri": "https://localhost:8080/"
        },
        "outputId": "bccbea04-e550-4561-c6c0-e4d590eabe4c"
      },
      "outputs": [
        {
          "output_type": "stream",
          "name": "stdout",
          "text": [
            "Исходный вектор A:\n",
            " [1. 1. 1.]\n",
            "Исходный вектор B:\n",
            " [2. 2. 2.]\n",
            "Результат заданного выражения ((A+B)*(-A/2)) (без копирования):\n",
            " [-1.5 -1.5 -1.5]\n"
          ]
        }
      ],
      "source": [
        "A = np.ones(3)*1\n",
        "print('Исходный вектор A:\\n', A)\n",
        "B = np.ones(3)*2\n",
        "print('Исходный вектор B:\\n', B)\n",
        "np.add(A,B,out=B)\n",
        "np.divide(A,2,out=A)\n",
        "np.negative(A,out=A)\n",
        "np.multiply(B,A,out=A)\n",
        "print('Результат заданного выражения ((A+B)*(-A/2)) (без копирования):\\n', A)"
      ]
    },
    {
      "cell_type": "markdown",
      "id": "cab1eed1",
      "metadata": {
        "id": "cab1eed1"
      },
      "source": [
        "#### 19. Создайте матрицу 5x5 со значениями строк от 0 до 4. (★★☆)"
      ]
    },
    {
      "cell_type": "code",
      "execution_count": null,
      "id": "f1b579ba",
      "metadata": {
        "id": "f1b579ba",
        "colab": {
          "base_uri": "https://localhost:8080/"
        },
        "outputId": "151939fa-b19b-4b68-8e22-db1b92924f8f"
      },
      "outputs": [
        {
          "output_type": "stream",
          "name": "stdout",
          "text": [
            "[[0. 1. 2. 3. 4.]\n",
            " [0. 1. 2. 3. 4.]\n",
            " [0. 1. 2. 3. 4.]\n",
            " [0. 1. 2. 3. 4.]\n",
            " [0. 1. 2. 3. 4.]]\n"
          ]
        }
      ],
      "source": [
        "a = np.zeros((5,5))\n",
        "a += np.arange(5)\n",
        "print(a)"
      ]
    },
    {
      "cell_type": "markdown",
      "id": "c4c942d1",
      "metadata": {
        "id": "c4c942d1"
      },
      "source": [
        "#### 20. Создайте вектор размера 10 со значениями в диапазоне от 0 до 1, исключая 1 и 0 (★★☆)"
      ]
    },
    {
      "cell_type": "code",
      "execution_count": null,
      "id": "e42eaa4b",
      "metadata": {
        "id": "e42eaa4b",
        "colab": {
          "base_uri": "https://localhost:8080/"
        },
        "outputId": "9b1ea85f-dd7b-4306-88bb-2d0b6b846405"
      },
      "outputs": [
        {
          "output_type": "stream",
          "name": "stdout",
          "text": [
            "[0.09090909 0.18181818 0.27272727 0.36363636 0.45454545 0.54545455\n",
            " 0.63636364 0.72727273 0.81818182 0.90909091]\n"
          ]
        }
      ],
      "source": [
        "a = np.linspace(0,1,12)[1:-1]\n",
        "print(a)"
      ]
    },
    {
      "cell_type": "markdown",
      "id": "9b3cb8d2",
      "metadata": {
        "id": "9b3cb8d2"
      },
      "source": [
        "#### 21. Создайте случайный вектор размера 10 и отсортируйте его (★★☆)"
      ]
    },
    {
      "cell_type": "code",
      "execution_count": null,
      "id": "37d2b341",
      "metadata": {
        "id": "37d2b341",
        "colab": {
          "base_uri": "https://localhost:8080/"
        },
        "outputId": "fed457d0-656e-4316-9c2f-c462a542a409"
      },
      "outputs": [
        {
          "output_type": "stream",
          "name": "stdout",
          "text": [
            "[0.1120969  0.15709086 0.18554342 0.23126845 0.36055349 0.37043785\n",
            " 0.45538039 0.48337888 0.76165836 0.80126345]\n"
          ]
        }
      ],
      "source": [
        "a = np.random.random(10)\n",
        "a.sort()\n",
        "print(a)"
      ]
    },
    {
      "cell_type": "markdown",
      "id": "2facfddc",
      "metadata": {
        "id": "2facfddc"
      },
      "source": [
        "#### 22. Можно ли суммировать небольшой массив быстрее, чем np.sum? (★★☆)"
      ]
    },
    {
      "cell_type": "code",
      "execution_count": null,
      "id": "4bb8864f",
      "metadata": {
        "id": "4bb8864f",
        "colab": {
          "base_uri": "https://localhost:8080/"
        },
        "outputId": "8872574f-5dd6-4054-83a0-5802e4244124"
      },
      "outputs": [
        {
          "output_type": "stream",
          "name": "stdout",
          "text": [
            "[0 1 2 3 4 5 6 7 8 9]\n"
          ]
        }
      ],
      "source": [
        "a= np.arange(10)\n",
        "print(a)\n"
      ]
    },
    {
      "cell_type": "code",
      "source": [
        "%%time\n",
        "np.add.reduce(a)"
      ],
      "metadata": {
        "colab": {
          "base_uri": "https://localhost:8080/"
        },
        "id": "l3uANn98RK_u",
        "outputId": "cdcc22b9-a062-4617-a6aa-2fb7bd355a34"
      },
      "id": "l3uANn98RK_u",
      "execution_count": null,
      "outputs": [
        {
          "output_type": "stream",
          "name": "stdout",
          "text": [
            "CPU times: user 40 µs, sys: 6 µs, total: 46 µs\n",
            "Wall time: 49.1 µs\n"
          ]
        },
        {
          "output_type": "execute_result",
          "data": {
            "text/plain": [
              "45"
            ]
          },
          "metadata": {},
          "execution_count": 101
        }
      ]
    },
    {
      "cell_type": "code",
      "source": [
        "%%time\n",
        "np.sum(a)"
      ],
      "metadata": {
        "colab": {
          "base_uri": "https://localhost:8080/"
        },
        "id": "L7CbNGIVRbaE",
        "outputId": "8c41171e-6a35-4083-82da-aa0e85dfe579"
      },
      "id": "L7CbNGIVRbaE",
      "execution_count": null,
      "outputs": [
        {
          "output_type": "stream",
          "name": "stdout",
          "text": [
            "CPU times: user 63 µs, sys: 9 µs, total: 72 µs\n",
            "Wall time: 77.2 µs\n"
          ]
        },
        {
          "output_type": "execute_result",
          "data": {
            "text/plain": [
              "45"
            ]
          },
          "metadata": {},
          "execution_count": 102
        }
      ]
    },
    {
      "cell_type": "markdown",
      "id": "539cd2a5",
      "metadata": {
        "id": "539cd2a5"
      },
      "source": [
        "#### 23. Рассмотрим два случайных массива A и B, проверьте, равны ли они(★★☆)"
      ]
    },
    {
      "cell_type": "code",
      "execution_count": null,
      "id": "5246d7bf",
      "metadata": {
        "id": "5246d7bf",
        "colab": {
          "base_uri": "https://localhost:8080/"
        },
        "outputId": "2a048ee8-69f8-4b59-a3b8-40a4731fab97"
      },
      "outputs": [
        {
          "output_type": "stream",
          "name": "stdout",
          "text": [
            "[2 1 2 0 2 2 0 0 2 1] [0 1 2 2 1 0 1 1 0 1]\n",
            "False\n"
          ]
        }
      ],
      "source": [
        "A = np.random.randint(0,3,10)\n",
        "B = np.random.randint(0,3,10)\n",
        "equal = np.allclose(A,B)\n",
        "print(A,B)\n",
        "print(equal)"
      ]
    },
    {
      "cell_type": "markdown",
      "id": "a556027a",
      "metadata": {
        "id": "a556027a"
      },
      "source": [
        "#### 24. Создайте случайный вектор размера 10 и замените максимальное значение на 0 (★★☆)"
      ]
    },
    {
      "cell_type": "code",
      "execution_count": null,
      "id": "9e07cb87",
      "metadata": {
        "id": "9e07cb87",
        "colab": {
          "base_uri": "https://localhost:8080/"
        },
        "outputId": "2bb57619-4afe-4bd3-8df1-deb494cbd24b"
      },
      "outputs": [
        {
          "output_type": "stream",
          "name": "stdout",
          "text": [
            "[0.37132802 0.23681948 0.24980006 0.93701963 0.11053018 0.50570659\n",
            " 0.57801928 0.92358356 0.57847782 0.77752703]\n",
            "[0.37132802 0.23681948 0.24980006 0.         0.11053018 0.50570659\n",
            " 0.57801928 0.92358356 0.57847782 0.77752703]\n"
          ]
        }
      ],
      "source": [
        "a = np.random.random(10)\n",
        "print(a)\n",
        "a[a.argmax()] = 0\n",
        "print(a)"
      ]
    },
    {
      "cell_type": "markdown",
      "id": "c8a2f65a",
      "metadata": {
        "id": "c8a2f65a"
      },
      "source": [
        "#### 25. Распечатайте минимальное и максимальное представимое значение для каждого скалярного типа numpy (★★☆)"
      ]
    },
    {
      "cell_type": "code",
      "execution_count": null,
      "id": "35d844d6",
      "metadata": {
        "id": "35d844d6",
        "colab": {
          "base_uri": "https://localhost:8080/"
        },
        "outputId": "cf627be1-c8ea-44c5-d889-61422db00ec7"
      },
      "outputs": [
        {
          "output_type": "stream",
          "name": "stdout",
          "text": [
            "-128\n",
            "127\n",
            "-2147483648\n",
            "2147483647\n",
            "-9223372036854775808\n",
            "9223372036854775807\n",
            "-3.4028235e+38\n",
            "3.4028235e+38\n",
            "1.1920929e-07\n",
            "-1.7976931348623157e+308\n",
            "1.7976931348623157e+308\n",
            "2.220446049250313e-16\n"
          ]
        }
      ],
      "source": [
        "for dtype in [np.int8, np.int32, np.int64]:\n",
        "   print(np.iinfo(dtype).min)\n",
        "   print(np.iinfo(dtype).max)\n",
        "for dtype in [np.float32, np.float64]:\n",
        "   print(np.finfo(dtype).min)\n",
        "   print(np.finfo(dtype).max)\n",
        "   print(np.finfo(dtype).eps)"
      ]
    },
    {
      "cell_type": "markdown",
      "id": "11727a69",
      "metadata": {
        "id": "11727a69"
      },
      "source": [
        "#### 26. Как вывести все значения большого массива? (★★☆)"
      ]
    },
    {
      "cell_type": "code",
      "execution_count": null,
      "id": "47e98473",
      "metadata": {
        "id": "47e98473",
        "colab": {
          "base_uri": "https://localhost:8080/"
        },
        "outputId": "494c45dd-2c03-47bf-aee1-dc5ffea738e3"
      },
      "outputs": [
        {
          "output_type": "stream",
          "name": "stdout",
          "text": [
            "Значение threshold по умолчанию: 1000\n",
            "Вывод нулевого массива 26 на 40 с установками по дефолту:\n",
            " [[1. 1. 1. ... 1. 1. 1.]\n",
            " [1. 1. 1. ... 1. 1. 1.]\n",
            " [1. 1. 1. ... 1. 1. 1.]\n",
            " ...\n",
            " [1. 1. 1. ... 1. 1. 1.]\n",
            " [1. 1. 1. ... 1. 1. 1.]\n",
            " [1. 1. 1. ... 1. 1. 1.]]\n",
            "Вывод нулевого массива 26 на 40 без ограничений вывода:\n",
            " [[1. 1. 1. 1. 1. 1. 1. 1. 1. 1. 1. 1. 1. 1. 1. 1. 1. 1. 1. 1. 1. 1. 1. 1.\n",
            "  1. 1. 1. 1. 1. 1. 1. 1. 1. 1. 1. 1. 1. 1. 1. 1.]\n",
            " [1. 1. 1. 1. 1. 1. 1. 1. 1. 1. 1. 1. 1. 1. 1. 1. 1. 1. 1. 1. 1. 1. 1. 1.\n",
            "  1. 1. 1. 1. 1. 1. 1. 1. 1. 1. 1. 1. 1. 1. 1. 1.]\n",
            " [1. 1. 1. 1. 1. 1. 1. 1. 1. 1. 1. 1. 1. 1. 1. 1. 1. 1. 1. 1. 1. 1. 1. 1.\n",
            "  1. 1. 1. 1. 1. 1. 1. 1. 1. 1. 1. 1. 1. 1. 1. 1.]\n",
            " [1. 1. 1. 1. 1. 1. 1. 1. 1. 1. 1. 1. 1. 1. 1. 1. 1. 1. 1. 1. 1. 1. 1. 1.\n",
            "  1. 1. 1. 1. 1. 1. 1. 1. 1. 1. 1. 1. 1. 1. 1. 1.]\n",
            " [1. 1. 1. 1. 1. 1. 1. 1. 1. 1. 1. 1. 1. 1. 1. 1. 1. 1. 1. 1. 1. 1. 1. 1.\n",
            "  1. 1. 1. 1. 1. 1. 1. 1. 1. 1. 1. 1. 1. 1. 1. 1.]\n",
            " [1. 1. 1. 1. 1. 1. 1. 1. 1. 1. 1. 1. 1. 1. 1. 1. 1. 1. 1. 1. 1. 1. 1. 1.\n",
            "  1. 1. 1. 1. 1. 1. 1. 1. 1. 1. 1. 1. 1. 1. 1. 1.]\n",
            " [1. 1. 1. 1. 1. 1. 1. 1. 1. 1. 1. 1. 1. 1. 1. 1. 1. 1. 1. 1. 1. 1. 1. 1.\n",
            "  1. 1. 1. 1. 1. 1. 1. 1. 1. 1. 1. 1. 1. 1. 1. 1.]\n",
            " [1. 1. 1. 1. 1. 1. 1. 1. 1. 1. 1. 1. 1. 1. 1. 1. 1. 1. 1. 1. 1. 1. 1. 1.\n",
            "  1. 1. 1. 1. 1. 1. 1. 1. 1. 1. 1. 1. 1. 1. 1. 1.]\n",
            " [1. 1. 1. 1. 1. 1. 1. 1. 1. 1. 1. 1. 1. 1. 1. 1. 1. 1. 1. 1. 1. 1. 1. 1.\n",
            "  1. 1. 1. 1. 1. 1. 1. 1. 1. 1. 1. 1. 1. 1. 1. 1.]\n",
            " [1. 1. 1. 1. 1. 1. 1. 1. 1. 1. 1. 1. 1. 1. 1. 1. 1. 1. 1. 1. 1. 1. 1. 1.\n",
            "  1. 1. 1. 1. 1. 1. 1. 1. 1. 1. 1. 1. 1. 1. 1. 1.]\n",
            " [1. 1. 1. 1. 1. 1. 1. 1. 1. 1. 1. 1. 1. 1. 1. 1. 1. 1. 1. 1. 1. 1. 1. 1.\n",
            "  1. 1. 1. 1. 1. 1. 1. 1. 1. 1. 1. 1. 1. 1. 1. 1.]\n",
            " [1. 1. 1. 1. 1. 1. 1. 1. 1. 1. 1. 1. 1. 1. 1. 1. 1. 1. 1. 1. 1. 1. 1. 1.\n",
            "  1. 1. 1. 1. 1. 1. 1. 1. 1. 1. 1. 1. 1. 1. 1. 1.]\n",
            " [1. 1. 1. 1. 1. 1. 1. 1. 1. 1. 1. 1. 1. 1. 1. 1. 1. 1. 1. 1. 1. 1. 1. 1.\n",
            "  1. 1. 1. 1. 1. 1. 1. 1. 1. 1. 1. 1. 1. 1. 1. 1.]\n",
            " [1. 1. 1. 1. 1. 1. 1. 1. 1. 1. 1. 1. 1. 1. 1. 1. 1. 1. 1. 1. 1. 1. 1. 1.\n",
            "  1. 1. 1. 1. 1. 1. 1. 1. 1. 1. 1. 1. 1. 1. 1. 1.]\n",
            " [1. 1. 1. 1. 1. 1. 1. 1. 1. 1. 1. 1. 1. 1. 1. 1. 1. 1. 1. 1. 1. 1. 1. 1.\n",
            "  1. 1. 1. 1. 1. 1. 1. 1. 1. 1. 1. 1. 1. 1. 1. 1.]\n",
            " [1. 1. 1. 1. 1. 1. 1. 1. 1. 1. 1. 1. 1. 1. 1. 1. 1. 1. 1. 1. 1. 1. 1. 1.\n",
            "  1. 1. 1. 1. 1. 1. 1. 1. 1. 1. 1. 1. 1. 1. 1. 1.]\n",
            " [1. 1. 1. 1. 1. 1. 1. 1. 1. 1. 1. 1. 1. 1. 1. 1. 1. 1. 1. 1. 1. 1. 1. 1.\n",
            "  1. 1. 1. 1. 1. 1. 1. 1. 1. 1. 1. 1. 1. 1. 1. 1.]\n",
            " [1. 1. 1. 1. 1. 1. 1. 1. 1. 1. 1. 1. 1. 1. 1. 1. 1. 1. 1. 1. 1. 1. 1. 1.\n",
            "  1. 1. 1. 1. 1. 1. 1. 1. 1. 1. 1. 1. 1. 1. 1. 1.]\n",
            " [1. 1. 1. 1. 1. 1. 1. 1. 1. 1. 1. 1. 1. 1. 1. 1. 1. 1. 1. 1. 1. 1. 1. 1.\n",
            "  1. 1. 1. 1. 1. 1. 1. 1. 1. 1. 1. 1. 1. 1. 1. 1.]\n",
            " [1. 1. 1. 1. 1. 1. 1. 1. 1. 1. 1. 1. 1. 1. 1. 1. 1. 1. 1. 1. 1. 1. 1. 1.\n",
            "  1. 1. 1. 1. 1. 1. 1. 1. 1. 1. 1. 1. 1. 1. 1. 1.]\n",
            " [1. 1. 1. 1. 1. 1. 1. 1. 1. 1. 1. 1. 1. 1. 1. 1. 1. 1. 1. 1. 1. 1. 1. 1.\n",
            "  1. 1. 1. 1. 1. 1. 1. 1. 1. 1. 1. 1. 1. 1. 1. 1.]\n",
            " [1. 1. 1. 1. 1. 1. 1. 1. 1. 1. 1. 1. 1. 1. 1. 1. 1. 1. 1. 1. 1. 1. 1. 1.\n",
            "  1. 1. 1. 1. 1. 1. 1. 1. 1. 1. 1. 1. 1. 1. 1. 1.]\n",
            " [1. 1. 1. 1. 1. 1. 1. 1. 1. 1. 1. 1. 1. 1. 1. 1. 1. 1. 1. 1. 1. 1. 1. 1.\n",
            "  1. 1. 1. 1. 1. 1. 1. 1. 1. 1. 1. 1. 1. 1. 1. 1.]\n",
            " [1. 1. 1. 1. 1. 1. 1. 1. 1. 1. 1. 1. 1. 1. 1. 1. 1. 1. 1. 1. 1. 1. 1. 1.\n",
            "  1. 1. 1. 1. 1. 1. 1. 1. 1. 1. 1. 1. 1. 1. 1. 1.]\n",
            " [1. 1. 1. 1. 1. 1. 1. 1. 1. 1. 1. 1. 1. 1. 1. 1. 1. 1. 1. 1. 1. 1. 1. 1.\n",
            "  1. 1. 1. 1. 1. 1. 1. 1. 1. 1. 1. 1. 1. 1. 1. 1.]\n",
            " [1. 1. 1. 1. 1. 1. 1. 1. 1. 1. 1. 1. 1. 1. 1. 1. 1. 1. 1. 1. 1. 1. 1. 1.\n",
            "  1. 1. 1. 1. 1. 1. 1. 1. 1. 1. 1. 1. 1. 1. 1. 1.]]\n"
          ]
        }
      ],
      "source": [
        "print('Значение threshold по умолчанию:', np.get_printoptions()['threshold'])\n",
        "Z = np.ones((26,40))\n",
        "print('Вывод нулевого массива 26 на 40 с установками по дефолту:\\n', Z)\n",
        "np.set_printoptions(threshold=float(\"inf\"))  # снять ограничения \n",
        "print('Вывод нулевого массива 26 на 40 без ограничений вывода:\\n', Z)"
      ]
    },
    {
      "cell_type": "markdown",
      "id": "d22b8574",
      "metadata": {
        "id": "d22b8574"
      },
      "source": [
        "#### 27. Рассмотрим случайный вектор формы (100,2), представляющий координаты, найдите расстояния между точками. (★★☆)"
      ]
    },
    {
      "cell_type": "code",
      "execution_count": null,
      "id": "d5c9cdf8",
      "metadata": {
        "id": "d5c9cdf8",
        "colab": {
          "base_uri": "https://localhost:8080/"
        },
        "outputId": "dbab364b-353f-4e2a-bab1-37f9a97138fe"
      },
      "outputs": [
        {
          "output_type": "stream",
          "name": "stdout",
          "text": [
            "[[0.         0.68831489 0.8514439  0.87614363 0.60653845 0.76390023\n",
            "  0.44908928 0.43761538 0.37121572 0.75054929]\n",
            " [0.68831489 0.         0.18001949 0.56267351 0.10105291 0.07730927\n",
            "  0.23922617 0.40613242 0.44800491 0.52260007]\n",
            " [0.8514439  0.18001949 0.         0.50905144 0.24496597 0.13158029\n",
            "  0.40694048 0.50929201 0.56541297 0.51228298]\n",
            " [0.87614363 0.56267351 0.50905144 0.         0.51127843 0.58677758\n",
            "  0.60452802 0.44343504 0.50609476 0.13003729]\n",
            " [0.60653845 0.10105291 0.24496597 0.51127843 0.         0.17552625\n",
            "  0.16444893 0.30532355 0.34725559 0.45229612]\n",
            " [0.76390023 0.07730927 0.13158029 0.58677758 0.17552625 0.\n",
            "  0.31510708 0.47774716 0.52251349 0.5625635 ]\n",
            " [0.44908928 0.23922617 0.40694048 0.60452802 0.16444893 0.31510708\n",
            "  0.         0.25795142 0.26688406 0.5158684 ]\n",
            " [0.43761538 0.40613242 0.50929201 0.44343504 0.30532355 0.47774716\n",
            "  0.25795142 0.         0.06894505 0.32418304]\n",
            " [0.37121572 0.44800491 0.56541297 0.50609476 0.34725559 0.52251349\n",
            "  0.26688406 0.06894505 0.         0.38311707]\n",
            " [0.75054929 0.52260007 0.51228298 0.13003729 0.45229612 0.5625635\n",
            "  0.5158684  0.32418304 0.38311707 0.        ]]\n"
          ]
        }
      ],
      "source": [
        "import scipy.spatial\n",
        "\n",
        "Z = np.random.random((10,2))\n",
        "D = scipy.spatial.distance.cdist(Z,Z)\n",
        "print(D)"
      ]
    },
    {
      "cell_type": "markdown",
      "id": "f5c164f2",
      "metadata": {
        "id": "f5c164f2"
      },
      "source": [
        "#### 28. Как преобразовать массив с плавающей запятой (32 бита) в целое число (32 бита) с заменой?"
      ]
    },
    {
      "cell_type": "code",
      "execution_count": null,
      "id": "ea262de8",
      "metadata": {
        "id": "ea262de8",
        "colab": {
          "base_uri": "https://localhost:8080/"
        },
        "outputId": "787e9330-692f-4607-f4c9-9bc654a2a8d4"
      },
      "outputs": [
        {
          "output_type": "stream",
          "name": "stdout",
          "text": [
            "Исходный вектор : \n",
            " [42.0199 62.4789 35.8671 57.0951 77.3062 28.0152 47.0523 27.3569 68.2671\n",
            "  1.0083]\n",
            "Преобразованное представление массива Z = Y: \n",
            " [42 62 35 57 77 28 47 27 68  1]\n"
          ]
        }
      ],
      "source": [
        "Z = (np.random.rand(10)*100).astype(np.float32)\n",
        "print('Исходный вектор : \\n', Z)\n",
        "Y = Z.view(np.int32)  # создаем представление массива, но с другим типом\n",
        "Y[:] = Z  # копируем в представление массива массив\n",
        "print('Преобразованное представление массива Z = Y: \\n',Y)"
      ]
    },
    {
      "cell_type": "markdown",
      "id": "a8b7e6f5",
      "metadata": {
        "id": "a8b7e6f5"
      },
      "source": [
        "#### 29. Создайте массив из следующего файла: (★★☆)\n",
        "```\n",
        "1, 2, 3, 4, 5\n",
        "6,  ,  , 7, 8\n",
        " ,  , 9,10,11\n",
        "```"
      ]
    },
    {
      "cell_type": "code",
      "execution_count": null,
      "id": "bde0538a",
      "metadata": {
        "id": "bde0538a",
        "colab": {
          "base_uri": "https://localhost:8080/",
          "height": 73
        },
        "outputId": "5fbb9017-0c91-4000-8373-9d1ab9c1d053"
      },
      "outputs": [
        {
          "output_type": "display_data",
          "data": {
            "text/plain": [
              "<IPython.core.display.HTML object>"
            ],
            "text/html": [
              "\n",
              "     <input type=\"file\" id=\"files-7177519d-b934-42e3-b788-9166fe699ca5\" name=\"files[]\" multiple disabled\n",
              "        style=\"border:none\" />\n",
              "     <output id=\"result-7177519d-b934-42e3-b788-9166fe699ca5\">\n",
              "      Upload widget is only available when the cell has been executed in the\n",
              "      current browser session. Please rerun this cell to enable.\n",
              "      </output>\n",
              "      <script>// Copyright 2017 Google LLC\n",
              "//\n",
              "// Licensed under the Apache License, Version 2.0 (the \"License\");\n",
              "// you may not use this file except in compliance with the License.\n",
              "// You may obtain a copy of the License at\n",
              "//\n",
              "//      http://www.apache.org/licenses/LICENSE-2.0\n",
              "//\n",
              "// Unless required by applicable law or agreed to in writing, software\n",
              "// distributed under the License is distributed on an \"AS IS\" BASIS,\n",
              "// WITHOUT WARRANTIES OR CONDITIONS OF ANY KIND, either express or implied.\n",
              "// See the License for the specific language governing permissions and\n",
              "// limitations under the License.\n",
              "\n",
              "/**\n",
              " * @fileoverview Helpers for google.colab Python module.\n",
              " */\n",
              "(function(scope) {\n",
              "function span(text, styleAttributes = {}) {\n",
              "  const element = document.createElement('span');\n",
              "  element.textContent = text;\n",
              "  for (const key of Object.keys(styleAttributes)) {\n",
              "    element.style[key] = styleAttributes[key];\n",
              "  }\n",
              "  return element;\n",
              "}\n",
              "\n",
              "// Max number of bytes which will be uploaded at a time.\n",
              "const MAX_PAYLOAD_SIZE = 100 * 1024;\n",
              "\n",
              "function _uploadFiles(inputId, outputId) {\n",
              "  const steps = uploadFilesStep(inputId, outputId);\n",
              "  const outputElement = document.getElementById(outputId);\n",
              "  // Cache steps on the outputElement to make it available for the next call\n",
              "  // to uploadFilesContinue from Python.\n",
              "  outputElement.steps = steps;\n",
              "\n",
              "  return _uploadFilesContinue(outputId);\n",
              "}\n",
              "\n",
              "// This is roughly an async generator (not supported in the browser yet),\n",
              "// where there are multiple asynchronous steps and the Python side is going\n",
              "// to poll for completion of each step.\n",
              "// This uses a Promise to block the python side on completion of each step,\n",
              "// then passes the result of the previous step as the input to the next step.\n",
              "function _uploadFilesContinue(outputId) {\n",
              "  const outputElement = document.getElementById(outputId);\n",
              "  const steps = outputElement.steps;\n",
              "\n",
              "  const next = steps.next(outputElement.lastPromiseValue);\n",
              "  return Promise.resolve(next.value.promise).then((value) => {\n",
              "    // Cache the last promise value to make it available to the next\n",
              "    // step of the generator.\n",
              "    outputElement.lastPromiseValue = value;\n",
              "    return next.value.response;\n",
              "  });\n",
              "}\n",
              "\n",
              "/**\n",
              " * Generator function which is called between each async step of the upload\n",
              " * process.\n",
              " * @param {string} inputId Element ID of the input file picker element.\n",
              " * @param {string} outputId Element ID of the output display.\n",
              " * @return {!Iterable<!Object>} Iterable of next steps.\n",
              " */\n",
              "function* uploadFilesStep(inputId, outputId) {\n",
              "  const inputElement = document.getElementById(inputId);\n",
              "  inputElement.disabled = false;\n",
              "\n",
              "  const outputElement = document.getElementById(outputId);\n",
              "  outputElement.innerHTML = '';\n",
              "\n",
              "  const pickedPromise = new Promise((resolve) => {\n",
              "    inputElement.addEventListener('change', (e) => {\n",
              "      resolve(e.target.files);\n",
              "    });\n",
              "  });\n",
              "\n",
              "  const cancel = document.createElement('button');\n",
              "  inputElement.parentElement.appendChild(cancel);\n",
              "  cancel.textContent = 'Cancel upload';\n",
              "  const cancelPromise = new Promise((resolve) => {\n",
              "    cancel.onclick = () => {\n",
              "      resolve(null);\n",
              "    };\n",
              "  });\n",
              "\n",
              "  // Wait for the user to pick the files.\n",
              "  const files = yield {\n",
              "    promise: Promise.race([pickedPromise, cancelPromise]),\n",
              "    response: {\n",
              "      action: 'starting',\n",
              "    }\n",
              "  };\n",
              "\n",
              "  cancel.remove();\n",
              "\n",
              "  // Disable the input element since further picks are not allowed.\n",
              "  inputElement.disabled = true;\n",
              "\n",
              "  if (!files) {\n",
              "    return {\n",
              "      response: {\n",
              "        action: 'complete',\n",
              "      }\n",
              "    };\n",
              "  }\n",
              "\n",
              "  for (const file of files) {\n",
              "    const li = document.createElement('li');\n",
              "    li.append(span(file.name, {fontWeight: 'bold'}));\n",
              "    li.append(span(\n",
              "        `(${file.type || 'n/a'}) - ${file.size} bytes, ` +\n",
              "        `last modified: ${\n",
              "            file.lastModifiedDate ? file.lastModifiedDate.toLocaleDateString() :\n",
              "                                    'n/a'} - `));\n",
              "    const percent = span('0% done');\n",
              "    li.appendChild(percent);\n",
              "\n",
              "    outputElement.appendChild(li);\n",
              "\n",
              "    const fileDataPromise = new Promise((resolve) => {\n",
              "      const reader = new FileReader();\n",
              "      reader.onload = (e) => {\n",
              "        resolve(e.target.result);\n",
              "      };\n",
              "      reader.readAsArrayBuffer(file);\n",
              "    });\n",
              "    // Wait for the data to be ready.\n",
              "    let fileData = yield {\n",
              "      promise: fileDataPromise,\n",
              "      response: {\n",
              "        action: 'continue',\n",
              "      }\n",
              "    };\n",
              "\n",
              "    // Use a chunked sending to avoid message size limits. See b/62115660.\n",
              "    let position = 0;\n",
              "    do {\n",
              "      const length = Math.min(fileData.byteLength - position, MAX_PAYLOAD_SIZE);\n",
              "      const chunk = new Uint8Array(fileData, position, length);\n",
              "      position += length;\n",
              "\n",
              "      const base64 = btoa(String.fromCharCode.apply(null, chunk));\n",
              "      yield {\n",
              "        response: {\n",
              "          action: 'append',\n",
              "          file: file.name,\n",
              "          data: base64,\n",
              "        },\n",
              "      };\n",
              "\n",
              "      let percentDone = fileData.byteLength === 0 ?\n",
              "          100 :\n",
              "          Math.round((position / fileData.byteLength) * 100);\n",
              "      percent.textContent = `${percentDone}% done`;\n",
              "\n",
              "    } while (position < fileData.byteLength);\n",
              "  }\n",
              "\n",
              "  // All done.\n",
              "  yield {\n",
              "    response: {\n",
              "      action: 'complete',\n",
              "    }\n",
              "  };\n",
              "}\n",
              "\n",
              "scope.google = scope.google || {};\n",
              "scope.google.colab = scope.google.colab || {};\n",
              "scope.google.colab._files = {\n",
              "  _uploadFiles,\n",
              "  _uploadFilesContinue,\n",
              "};\n",
              "})(self);\n",
              "</script> "
            ]
          },
          "metadata": {}
        },
        {
          "output_type": "stream",
          "name": "stdout",
          "text": [
            "Saving primer.txt to primer.txt\n"
          ]
        }
      ],
      "source": [
        "from google.colab import files\n",
        "uploaded = files.upload()\n"
      ]
    },
    {
      "cell_type": "code",
      "source": [
        "z = np.genfromtxt(\"primer.txt\", delimiter=\",\")\n",
        "print(z)"
      ],
      "metadata": {
        "colab": {
          "base_uri": "https://localhost:8080/"
        },
        "id": "JU2MFurnVGtw",
        "outputId": "10d8c033-659c-47eb-dfa6-2632bff68942"
      },
      "id": "JU2MFurnVGtw",
      "execution_count": null,
      "outputs": [
        {
          "output_type": "stream",
          "name": "stdout",
          "text": [
            "[[ 1.  2.  3.  4.  5.]\n",
            " [ 6. nan nan  7.  8.]\n",
            " [nan nan  9. 10. 11.]]\n"
          ]
        }
      ]
    },
    {
      "cell_type": "markdown",
      "id": "bfd2513c",
      "metadata": {
        "id": "bfd2513c"
      },
      "source": [
        "#### 30. Вычтите среднее значение каждой строки случайной матрицы. (★★☆)"
      ]
    },
    {
      "cell_type": "code",
      "execution_count": null,
      "id": "f306ab72",
      "metadata": {
        "id": "f306ab72",
        "colab": {
          "base_uri": "https://localhost:8080/"
        },
        "outputId": "7dc00f2a-099c-4d7c-b323-291441a35fba"
      },
      "outputs": [
        {
          "output_type": "stream",
          "name": "stdout",
          "text": [
            "[[1 1 0]\n",
            " [1 6 5]\n",
            " [5 9 3]] \n",
            " [[ 0.3333  0.3333 -0.6667]\n",
            " [-3.      2.      1.    ]\n",
            " [-0.6667  3.3333 -2.6667]]\n"
          ]
        }
      ],
      "source": [
        "a=np.random.randint(0,10,9).reshape(3,3)\n",
        "b = a - a.mean(axis=1, keepdims=True)\n",
        "print(a,\"\\n\",b)"
      ]
    },
    {
      "cell_type": "markdown",
      "id": "f30162d2",
      "metadata": {
        "id": "f30162d2"
      },
      "source": [
        "#### 31. Рассмотрим случайный вектор, как добавить 1 к каждому элементу, индексированному вторым вектором (будьте осторожны с повторяющимися индексами)? (★★★)"
      ]
    },
    {
      "cell_type": "code",
      "source": [
        "N = 10  # размер вектора\n",
        "\n",
        "Z = np.ones(N)\n",
        "print(f'Исходный вектор Z единичных значений длиной {N}:\\n{Z}\\nСумма элементов вектора Z: {sum(Z)}')\n",
        "I = np.random.randint(1,N-1,N*3)\n",
        "print(f'Вектор индексов I длиной {3*N} из случайных значений равномерно распределенных на полуинтервале [0,{N}):\\n', I)\n",
        "Z += np.bincount(I, minlength=len(Z))\n",
        "print(f'Преобразованный вектор Z_:\\n{Z}\\nСумма элементов вектора Z_: {sum(Z)}')\n",
        "print('Проверка выражения np.sum(Z_) = np.sum(Z) + len(I): ', np.sum(Z) == N + len(I))"
      ],
      "metadata": {
        "colab": {
          "base_uri": "https://localhost:8080/"
        },
        "id": "lSjrtLN_ZmB2",
        "outputId": "a15a4e2d-65f4-4e8a-b9ec-58e84280389e"
      },
      "id": "lSjrtLN_ZmB2",
      "execution_count": null,
      "outputs": [
        {
          "output_type": "stream",
          "name": "stdout",
          "text": [
            "Исходный вектор Z единичных значений длиной 10:\n",
            "[1. 1. 1. 1. 1. 1. 1. 1. 1. 1.]\n",
            "Сумма элементов вектора Z: 10.0\n",
            "Вектор индексов I длиной 30 из случайных значений равномерно распределенных на полуинтервале [0,10):\n",
            " [3 2 6 3 8 5 7 8 5 5 1 7 8 2 6 1 7 4 1 7 3 5 3 3 6 4 3 1 1 6]\n",
            "Преобразованный вектор Z_:\n",
            "[1. 6. 3. 7. 3. 5. 5. 5. 4. 1.]\n",
            "Сумма элементов вектора Z_: 40.0\n",
            "Проверка выражения np.sum(Z_) = np.sum(Z) + len(I):  True\n"
          ]
        }
      ]
    },
    {
      "cell_type": "markdown",
      "id": "f5b1c584",
      "metadata": {
        "id": "f5b1c584"
      },
      "source": [
        "#### 32. Как перенести элементы вектора (X) в массив (F) на основе списка индексов (I)? (★★★)"
      ]
    },
    {
      "cell_type": "code",
      "execution_count": null,
      "id": "c9d92a75",
      "metadata": {
        "id": "c9d92a75",
        "colab": {
          "base_uri": "https://localhost:8080/"
        },
        "outputId": "94dfc1d1-2441-49f9-cafd-78e9ba3db3ce"
      },
      "outputs": [
        {
          "output_type": "stream",
          "name": "stdout",
          "text": [
            "Исходный вектор Z с временем ответа серверов за последние 20 запросов (случайно):\n",
            " [2 1 4 3 1 4 4 4 2 1 4 2 4 2 2 4 4 4 4 2]\n",
            "Вектор I с номерами серверов к которым были адресованны последние 20 запросов из вектора Z (случайно):\n",
            " [ 9  3  2 15  4  8 15 10  1  7  3 15 12 11 14 15  3 10  5  4]\n",
            "Вектор Sum_Z_I с аккумулированным (просуммированным) временем ответа серверов из вектра Z по соответствующим серверам перечисленным в векторе I:\n",
            " [ 2.  4.  9.  3.  4.  0.  1.  4.  2.  8.  2.  4.  0.  2. 13.]\n"
          ]
        }
      ],
      "source": [
        "N = 20  # кол-во последних запросов к серверам\n",
        "n = 15  # кол-во серверов\n",
        "\n",
        "x = np.random.randint(1,5,N)\n",
        "print(f'Исходный вектор Z с временем ответа серверов за последние {N} запросов (случайно):\\n', x)\n",
        "I = np.random.randint(1,n+1,N)\n",
        "print(f'Вектор I с номерами серверов к которым были адресованны последние {N} запросов из вектора Z (случайно):\\n', I)\n",
        "F = np.bincount(I,weights=x)\n",
        "print('Вектор Sum_Z_I с аккумулированным (просуммированным) временем ответа серверов из вектра Z по соответствующим серверам перечисленным в векторе I:\\n', F[1:])\n"
      ]
    },
    {
      "cell_type": "markdown",
      "id": "4bddeb31",
      "metadata": {
        "id": "4bddeb31"
      },
      "source": [
        "#### 33. Рассматривая четырехмерный массив, как получить сумму сразу (в одну операцию) по двум последним осям? (★★★)"
      ]
    },
    {
      "cell_type": "code",
      "execution_count": null,
      "id": "32af15f5",
      "metadata": {
        "id": "32af15f5",
        "colab": {
          "base_uri": "https://localhost:8080/"
        },
        "outputId": "f68a6f22-b7cb-4108-e357-436eb5af81d6"
      },
      "outputs": [
        {
          "output_type": "stream",
          "name": "stdout",
          "text": [
            "[[[[0 1 0 1]\n",
            "   [0 0 1 0]\n",
            "   [1 0 1 1]]\n",
            "\n",
            "  [[0 0 0 0]\n",
            "   [1 1 1 1]\n",
            "   [0 0 0 0]]\n",
            "\n",
            "  [[1 1 0 0]\n",
            "   [0 1 1 0]\n",
            "   [1 0 0 1]]\n",
            "\n",
            "  [[0 1 1 0]\n",
            "   [1 1 1 1]\n",
            "   [1 1 1 0]]]\n",
            "\n",
            "\n",
            " [[[1 1 1 1]\n",
            "   [0 1 0 0]\n",
            "   [0 0 0 1]]\n",
            "\n",
            "  [[1 0 0 0]\n",
            "   [0 1 1 0]\n",
            "   [1 0 1 1]]\n",
            "\n",
            "  [[0 0 1 1]\n",
            "   [1 0 0 1]\n",
            "   [1 0 1 0]]\n",
            "\n",
            "  [[0 1 1 0]\n",
            "   [0 1 0 0]\n",
            "   [1 0 0 1]]]\n",
            "\n",
            "\n",
            " [[[0 1 1 0]\n",
            "   [0 0 1 0]\n",
            "   [0 1 1 1]]\n",
            "\n",
            "  [[1 1 1 1]\n",
            "   [0 0 1 1]\n",
            "   [1 0 0 1]]\n",
            "\n",
            "  [[1 0 0 0]\n",
            "   [0 1 1 0]\n",
            "   [0 1 1 1]]\n",
            "\n",
            "  [[0 0 0 1]\n",
            "   [1 0 1 0]\n",
            "   [0 1 1 1]]]]\n",
            "Результат суммирования элементов вектора Z по двум последним осям другим способом:\n",
            " [[6 4 6 9]\n",
            " [6 6 6 5]\n",
            " [6 8 6 6]]\n"
          ]
        }
      ],
      "source": [
        "size_arr = (3,4,3,4)\n",
        "Z = np.random.randint(0,2,size=size_arr)\n",
        "sum_Z_last_two_axis_2 = Z.reshape(Z.shape[:-2] + (-1,)).sum(axis=-1)\n",
        "print(Z)\n",
        "print('Результат суммирования элементов вектора Z по двум последним осям другим способом:\\n', sum_Z_last_two_axis_2)"
      ]
    },
    {
      "cell_type": "markdown",
      "id": "de727a7b",
      "metadata": {
        "id": "de727a7b"
      },
      "source": [
        "#### 34. Рассмотрим вектор [1, 2, 3, 4, 5], как построить новый вектор с 3 последовательными нулями, чередующимися между каждым значением? (★★★)"
      ]
    },
    {
      "cell_type": "code",
      "execution_count": null,
      "id": "982be812",
      "metadata": {
        "id": "982be812",
        "colab": {
          "base_uri": "https://localhost:8080/"
        },
        "outputId": "a8d20113-bb60-4780-bc27-f442082a2f30"
      },
      "outputs": [
        {
          "output_type": "stream",
          "name": "stdout",
          "text": [
            "Исходный вектор Z длинной 5:\n",
            " [1 2 3 4 5]\n",
            "Итоговый вектор Z с тремя нулями между числами:\n",
            " [1. 0. 0. 0. 2. 0. 0. 0. 3. 0. 0. 0. 4. 0. 0. 0. 5.]\n"
          ]
        }
      ],
      "source": [
        "Z = np.array([1,2,3,4,5])\n",
        "print(f'Исходный вектор Z длинной {len(Z)}:\\n', Z)\n",
        "\n",
        "nz = 3  # кол-во нулей между числами \n",
        "new_len_arr = len(Z) + (len(Z)-1)*(nz)  # новая длина вектора\n",
        "Z0 = np.zeros(new_len_arr)\n",
        "Z0[::nz+1] = Z  # вставляем в нулевой вектор значения вектора Z с шагом nz+1 \n",
        "print(f'Итоговый вектор Z с тремя нулями между числами:\\n', Z0)"
      ]
    },
    {
      "cell_type": "markdown",
      "id": "a9a73d6b",
      "metadata": {
        "id": "a9a73d6b"
      },
      "source": [
        "#### 35. Рассмотрим массив размерности (5,5,3), как его умножить на массив размерностью (5,5)? (★★★)"
      ]
    },
    {
      "cell_type": "code",
      "execution_count": null,
      "id": "282a90cc",
      "metadata": {
        "id": "282a90cc",
        "colab": {
          "base_uri": "https://localhost:8080/"
        },
        "outputId": "121efb6a-07f2-48ed-bd96-7ee7fdde6449"
      },
      "outputs": [
        {
          "output_type": "stream",
          "name": "stdout",
          "text": [
            "Трех мерный массив A размером (5,5,3):\n",
            " [[[ 0  1  2]\n",
            "  [ 3  4  5]\n",
            "  [ 6  7  8]\n",
            "  [ 9 10 11]\n",
            "  [12 13 14]]\n",
            "\n",
            " [[15 16 17]\n",
            "  [18 19 20]\n",
            "  [21 22 23]\n",
            "  [24 25 26]\n",
            "  [27 28 29]]\n",
            "\n",
            " [[30 31 32]\n",
            "  [33 34 35]\n",
            "  [36 37 38]\n",
            "  [39 40 41]\n",
            "  [42 43 44]]\n",
            "\n",
            " [[45 46 47]\n",
            "  [48 49 50]\n",
            "  [51 52 53]\n",
            "  [54 55 56]\n",
            "  [57 58 59]]\n",
            "\n",
            " [[60 61 62]\n",
            "  [63 64 65]\n",
            "  [66 67 68]\n",
            "  [69 70 71]\n",
            "  [72 73 74]]]\n",
            "Двумерный массив B размером (5,5):\n",
            " [[0.1 0.1 0.1 0.1 0.1]\n",
            " [0.1 0.1 0.1 0.1 0.1]\n",
            " [0.1 0.1 0.1 0.1 0.1]\n",
            " [0.1 0.1 0.1 0.1 0.1]\n",
            " [0.1 0.1 0.1 0.1 0.1]]\n",
            "Результат перемножения массивов A и B:\n",
            " [[[0.  0.1 0.2]\n",
            "  [0.3 0.4 0.5]\n",
            "  [0.6 0.7 0.8]\n",
            "  [0.9 1.  1.1]\n",
            "  [1.2 1.3 1.4]]\n",
            "\n",
            " [[1.5 1.6 1.7]\n",
            "  [1.8 1.9 2. ]\n",
            "  [2.1 2.2 2.3]\n",
            "  [2.4 2.5 2.6]\n",
            "  [2.7 2.8 2.9]]\n",
            "\n",
            " [[3.  3.1 3.2]\n",
            "  [3.3 3.4 3.5]\n",
            "  [3.6 3.7 3.8]\n",
            "  [3.9 4.  4.1]\n",
            "  [4.2 4.3 4.4]]\n",
            "\n",
            " [[4.5 4.6 4.7]\n",
            "  [4.8 4.9 5. ]\n",
            "  [5.1 5.2 5.3]\n",
            "  [5.4 5.5 5.6]\n",
            "  [5.7 5.8 5.9]]\n",
            "\n",
            " [[6.  6.1 6.2]\n",
            "  [6.3 6.4 6.5]\n",
            "  [6.6 6.7 6.8]\n",
            "  [6.9 7.  7.1]\n",
            "  [7.2 7.3 7.4]]]\n"
          ]
        }
      ],
      "source": [
        "A = np.arange(5*5*3).reshape(5,5,3)\n",
        "print(f'Трех мерный массив A размером (5,5,3):\\n', A)\n",
        "B = 0.1*np.ones((5,5))\n",
        "print(f'Двумерный массив B размером (5,5):\\n', B)\n",
        "print(f'Результат перемножения массивов A и B:\\n',A * B[:,:,None])"
      ]
    },
    {
      "cell_type": "markdown",
      "id": "b50adf7c",
      "metadata": {
        "id": "b50adf7c"
      },
      "source": [
        "#### 36. Как вычислить средние значения, используя скользящее окно по массиву? (★★★)"
      ]
    },
    {
      "cell_type": "code",
      "execution_count": null,
      "id": "e631a9d2",
      "metadata": {
        "id": "e631a9d2",
        "colab": {
          "base_uri": "https://localhost:8080/"
        },
        "outputId": "6ab52bf2-34c0-4607-acf0-5eeef9690559"
      },
      "outputs": [
        {
          "output_type": "stream",
          "name": "stdout",
          "text": [
            "Исходный вектор Z длинной 20:\n",
            " [ 0  1  2  3  4  5  6  7  8  9 10 11 12 13 14 15 16 17 18 19] \n",
            "\n",
            "Вектор средних значений скользящего окна рамера 2 вектора Z:\n",
            " [ 0.5  1.5  2.5  3.5  4.5  5.5  6.5  7.5  8.5  9.5 10.5 11.5 12.5 13.5\n",
            " 14.5 15.5 16.5 17.5 18.5]\n",
            ", длина вектора  19 \n",
            "\n"
          ]
        }
      ],
      "source": [
        "size_window = 2\n",
        "a = np.arange(20)\n",
        "cumsum_arr = np.cumsum(a)\n",
        "cumsum_arr[size_window:] = cumsum_arr[size_window:] - cumsum_arr[:-size_window]\n",
        "b= cumsum_arr[size_window - 1:] / size_window\n",
        "print(f'Исходный вектор Z длинной {len(a)}:\\n', a, '\\n')\n",
        "print(f'Вектор средних значений скользящего окна рамера {size_window} вектора Z:\\n', b)\n",
        "print(f', длина вектора ', len(b), '\\n')\n"
      ]
    },
    {
      "cell_type": "markdown",
      "id": "1ab4c50d",
      "metadata": {
        "id": "1ab4c50d"
      },
      "source": [
        "#### 37. Рассмотрим одномерный массив Z, постройте из него двумерный массив, первая строка которого (Z[0],Z[1],Z[2]), а каждая последующая строка сдвинута на 1 (последняя строка должна быть (Z[ -3],Z[-2],Z[-1]) (★★★)"
      ]
    },
    {
      "cell_type": "code",
      "execution_count": null,
      "id": "3ccfe2c0",
      "metadata": {
        "id": "3ccfe2c0",
        "colab": {
          "base_uri": "https://localhost:8080/"
        },
        "outputId": "5daee611-7b49-4e88-ac4d-a4113a90aacb"
      },
      "outputs": [
        {
          "output_type": "stream",
          "name": "stdout",
          "text": [
            "[[0 1 2]\n",
            " [1 2 3]\n",
            " [2 3 4]\n",
            " [3 4 5]\n",
            " [4 5 6]\n",
            " [5 6 7]\n",
            " [6 7 8]\n",
            " [7 8 9]]\n"
          ]
        }
      ],
      "source": [
        "from numpy.lib import stride_tricks\n",
        "\n",
        "def rolling(a, window):\n",
        "    shape = (a.size - window + 1, window)\n",
        "    strides = (a.itemsize, a.itemsize)\n",
        "    return stride_tricks.as_strided(a, shape=shape, strides=strides)\n",
        "Z = rolling(np.arange(10), 3)\n",
        "print(Z)"
      ]
    },
    {
      "cell_type": "markdown",
      "id": "e5e7f323",
      "metadata": {
        "id": "e5e7f323"
      },
      "source": [
        "#### 38. Рассмотрим 2 набора точек P0,P1, описывающих линии (2d), и набор точек P. Как вычислить расстояние от каждой точки j (P[j]) до каждой линии i (P0[i],P1[i])?(★★★)"
      ]
    },
    {
      "cell_type": "code",
      "execution_count": null,
      "id": "d0ce77e2",
      "metadata": {
        "id": "d0ce77e2",
        "colab": {
          "base_uri": "https://localhost:8080/"
        },
        "outputId": "52a6b402-125c-4e82-81c5-5034c8897e12"
      },
      "outputs": [
        {
          "output_type": "stream",
          "name": "stdout",
          "text": [
            "Координаты точек:\n",
            " [[8 0]\n",
            " [0 7]\n",
            " [2 7]\n",
            " [9 9]\n",
            " [1 8]]\n",
            "Расстояния между точками в кол-ве (5) и линиями в кол-ве (5):\n",
            " [[2.058  1.8974 7.6026 7.     5.3666]\n",
            " [1.2005 3.4785 2.6833 0.     4.4721]\n",
            " [0.5145 1.5811 0.8944 0.     3.5777]\n",
            " [7.5459 5.6921 4.4721 2.     2.2361]\n",
            " [0.1715 2.2136 2.2361 1.     4.9193]]\n"
          ]
        }
      ],
      "source": [
        "def distance_point_to_lines(d_P0, d_P1, d_point, with_pp=True):\n",
        "    Len_line = d_P1 - d_P0\n",
        "    L_2 = (Len_line**2).sum(axis=1)\n",
        "    U = -((d_P0[:,0]-d_point[...,0])*Len_line[:,0] + (d_P0[:,1]-d_point[...,1])*Len_line[:,1]) / L_2\n",
        "    U = U.reshape(len(U),1)\n",
        "    points_of_perpendicular = d_P0 + U*Len_line\n",
        "    D = points_of_perpendicular - d_point\n",
        "    if with_pp:\n",
        "        return np.sqrt((D**2).sum(axis=1)), points_of_perpendicular\n",
        "    else:\n",
        "        return np.sqrt((D**2).sum(axis=1))\n",
        "\n",
        "\n",
        "N = 5  # количество линий и точек\n",
        "P0 = np.random.randint(0, 10, (N,2))\n",
        "P1 = np.random.randint(0,10,(N,2))\n",
        "point = np.random.randint(0, 10, (N,2))\n",
        "print('Координаты точек:\\n', point)\n",
        "print(f'Расстояния между точками в кол-ве ({N}) и линиями в кол-ве ({N}):\\n', \n",
        "      np.array([distance_point_to_lines(P0,P1,p_i, with_pp=False) for p_i in point]))"
      ]
    },
    {
      "cell_type": "markdown",
      "id": "27794913",
      "metadata": {
        "id": "27794913"
      },
      "source": [
        "#### 39. Рассмотрим массив Z = [1,2,3,4,5,6,7,8,9,10,11,12,13,14], как сгенерировать массив R = [[1,2,3, 4], [2,3,4,5], [3,4,5,6], ..., [11,12,13,14]]? (★★★)"
      ]
    },
    {
      "cell_type": "code",
      "execution_count": null,
      "id": "f3e7878b",
      "metadata": {
        "id": "f3e7878b",
        "colab": {
          "base_uri": "https://localhost:8080/"
        },
        "outputId": "3179da6e-996a-4b65-a834-e6c6baf14190"
      },
      "outputs": [
        {
          "output_type": "stream",
          "name": "stdout",
          "text": [
            "Исходный массив Z размера 15:\n",
            " [ 0  1  2  3  4  5  6  7  8  9 10 11 12 13 14]\n",
            "Искомый массив R размера 12 на 4 :\n",
            " [[ 0  1  2  3]\n",
            " [ 1  2  3  4]\n",
            " [ 2  3  4  5]\n",
            " [ 3  4  5  6]\n",
            " [ 4  5  6  7]\n",
            " [ 5  6  7  8]\n",
            " [ 6  7  8  9]\n",
            " [ 7  8  9 10]\n",
            " [ 8  9 10 11]\n",
            " [ 9 10 11 12]\n",
            " [10 11 12 13]\n",
            " [11 12 13 14]]\n"
          ]
        }
      ],
      "source": [
        "N = 15  # размер массива\n",
        "Z = np.arange(N,dtype=np.int32)\n",
        "print(f'Исходный массив Z размера {Z.shape[0]}:\\n', Z)\n",
        "def rolling_window(d_array, d_size_window):\n",
        "    shape = d_array.shape[:-1] + (d_array.shape[-1] - d_size_window + 1, d_size_window)\n",
        "    strides = d_array.strides + (d_array.strides[-1],)\n",
        "    return stride_tricks.as_strided(d_array, shape=shape, strides=strides)\n",
        "\n",
        "size_window = 4\n",
        "roll_window = rolling_window(Z,size_window)\n",
        "print(f'Искомый массив R размера {roll_window.shape[0]} на {roll_window.shape[1]} :\\n', roll_window)"
      ]
    },
    {
      "cell_type": "markdown",
      "id": "fae786f5",
      "metadata": {
        "id": "fae786f5"
      },
      "source": [
        "#### 40. Найдите ранг случайной матрицы (★★★)"
      ]
    },
    {
      "cell_type": "code",
      "execution_count": null,
      "id": "64b9615b",
      "metadata": {
        "id": "64b9615b",
        "colab": {
          "base_uri": "https://localhost:8080/"
        },
        "outputId": "4618be6f-5241-40f3-9f05-0129e41784c1"
      },
      "outputs": [
        {
          "output_type": "stream",
          "name": "stdout",
          "text": [
            "Исходный матрица Z размера 10 на 10:\n",
            " [[0 1 0 1 1 0 0 1 0 1]\n",
            " [0 1 1 0 1 0 1 0 1 1]\n",
            " [1 0 0 1 1 0 0 1 0 0]\n",
            " [0 1 1 0 0 0 0 0 0 1]\n",
            " [1 0 0 1 0 1 0 1 1 0]\n",
            " [1 1 1 0 0 0 0 0 1 1]\n",
            " [0 0 0 0 1 1 0 1 0 0]\n",
            " [1 0 0 0 0 0 1 0 0 0]\n",
            " [1 1 0 0 0 1 1 1 1 0]\n",
            " [0 1 0 0 1 0 1 0 0 1]]\n",
            "Ранг матрицы Z:= 10\n"
          ]
        }
      ],
      "source": [
        "N = 10\n",
        "Z = np.random.randint(2,size=(N,N))\n",
        "print(f'Исходный матрица Z размера {Z.shape[0]} на {Z.shape[1]}:\\n', Z)\n",
        "rank = np.linalg.matrix_rank(Z, tol=1e-10)\n",
        "print(f'Ранг матрицы Z:=', rank)"
      ]
    },
    {
      "cell_type": "markdown",
      "id": "c85aa0b9",
      "metadata": {
        "id": "c85aa0b9"
      },
      "source": [
        "#### 41. Как найти наиболее часто встречающееся значение в массиве?"
      ]
    },
    {
      "cell_type": "code",
      "execution_count": null,
      "id": "056be85b",
      "metadata": {
        "id": "056be85b",
        "colab": {
          "base_uri": "https://localhost:8080/"
        },
        "outputId": "3ebef54f-2338-40bc-8586-080e30237c9d"
      },
      "outputs": [
        {
          "output_type": "stream",
          "name": "stdout",
          "text": [
            "[5 3 2 0 8 5 4 0 9 5 8 0 0 3 7 8 3 2 3 8 8 7 1 8 6 7 8 0 8 8 8 4 8 9 3 2 1\n",
            " 7 4 3 3 7 7 0 5 6 9 7 8 6]\n",
            "8\n"
          ]
        }
      ],
      "source": [
        "Z = np.random.randint(0,10,50)\n",
        "print(Z)\n",
        "print(np.bincount(Z).argmax())"
      ]
    },
    {
      "cell_type": "markdown",
      "id": "d614fee4",
      "metadata": {
        "id": "d614fee4"
      },
      "source": [
        "#### 42. Рассмотрим два массива A и B формы (8,3) и (2,2). Как найти строки A, содержащие элементы каждой строки B, независимо от порядка элементов в B? (★★★)"
      ]
    },
    {
      "cell_type": "code",
      "execution_count": null,
      "id": "e6807a84",
      "metadata": {
        "id": "e6807a84",
        "colab": {
          "base_uri": "https://localhost:8080/"
        },
        "outputId": "f15e191e-048f-4e12-bb1d-f17b4b299c62"
      },
      "outputs": [
        {
          "output_type": "stream",
          "name": "stdout",
          "text": [
            "[0 1 7]\n"
          ]
        }
      ],
      "source": [
        "A = np.random.randint(0,5,(8,3))\n",
        "B = np.random.randint(0,5,(2,2))\n",
        "\n",
        "C = (A[..., np.newaxis, np.newaxis] == B)\n",
        "rows = (C.sum(axis=(1,2,3)) >= B.shape[1]).nonzero()[0]\n",
        "print(rows)"
      ]
    },
    {
      "cell_type": "markdown",
      "id": "75b9397f",
      "metadata": {
        "id": "75b9397f"
      },
      "source": [
        "#### 43. Как извлечь уникальные значения из 2-х двумерных массивов?(★★★)"
      ]
    },
    {
      "cell_type": "code",
      "execution_count": null,
      "id": "9bb56a47",
      "metadata": {
        "id": "9bb56a47",
        "colab": {
          "base_uri": "https://localhost:8080/"
        },
        "outputId": "21cd0025-b8e5-4fb3-f09f-61ff25595495"
      },
      "outputs": [
        {
          "output_type": "stream",
          "name": "stdout",
          "text": [
            "[[12  5]\n",
            " [13 13]\n",
            " [11  9]\n",
            " [11 12]] \n",
            " [[ 5  1]\n",
            " [13  6]\n",
            " [ 5  8]\n",
            " [ 1 14]]\n",
            "[ 1  5  6  8  9 11 12 13 14]\n"
          ]
        }
      ],
      "source": [
        "Z = np.random.randint(0, 15, (4,2))\n",
        "T = np.random.randint(0, 15, (4,2)) \n",
        "X = np.unique([Z,T])\n",
        "print(Z,\"\\n\",T)\n",
        "print(X)\n"
      ]
    }
  ],
  "metadata": {
    "colab": {
      "provenance": [],
      "include_colab_link": true
    },
    "language_info": {
      "name": "python"
    },
    "kernelspec": {
      "name": "python3",
      "display_name": "Python 3"
    },
    "gpuClass": "standard"
  },
  "nbformat": 4,
  "nbformat_minor": 5
}